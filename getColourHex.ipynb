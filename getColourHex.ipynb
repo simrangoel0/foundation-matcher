{
 "cells": [
  {
   "cell_type": "code",
   "execution_count": 2,
   "metadata": {},
   "outputs": [
    {
     "name": "stdout",
     "output_type": "stream",
     "text": [
      "dimensions: (1798, 2405, 3)\n",
      "Time taken to extract RGB values: 1.9765877920000037 seconds\n",
      "red size: 4324190\n",
      "green size: 4324190\n",
      "blue size: 4324190\n",
      "         red  green  blue  scaled_color_red  scaled_color_green  \\\n",
      "0        122    179   248          2.351285            3.108973   \n",
      "1        122    179   248          2.351285            3.108973   \n",
      "2        122    179   248          2.351285            3.108973   \n",
      "3        122    179   248          2.351285            3.108973   \n",
      "4        122    179   248          2.351285            3.108973   \n",
      "...      ...    ...   ...               ...                 ...   \n",
      "4324185   43     54    48          0.828732            0.937902   \n",
      "4324186   37     48    42          0.713095            0.833691   \n",
      "4324187   36     42    38          0.693822            0.729480   \n",
      "4324188   34     39    35          0.655276            0.677374   \n",
      "4324189   30     32    31          0.578185            0.555794   \n",
      "\n",
      "         scaled_color_blue  \n",
      "0                 3.553407  \n",
      "1                 3.553407  \n",
      "2                 3.553407  \n",
      "3                 3.553407  \n",
      "4                 3.553407  \n",
      "...                    ...  \n",
      "4324185           0.687756  \n",
      "4324186           0.601787  \n",
      "4324187           0.544474  \n",
      "4324188           0.501489  \n",
      "4324189           0.444176  \n",
      "\n",
      "[4324190 rows x 6 columns]\n",
      "Time taken to scale RGB values: 0.11081366700000217 seconds\n",
      "Time taken to cluster for 1 clusters: 5.610493208999998 seconds\n",
      "Time taken to cluster for 2 clusters: 19.723138875000004 seconds\n",
      "Time taken to cluster for 3 clusters: 29.120378750000015 seconds\n",
      "Time taken to cluster for 4 clusters: 39.54718750000001 seconds\n",
      "Time taken to plot elbow plot: 0.21155195899999057 seconds\n"
     ]
    },
    {
     "data": {
      "image/png": "[encoded data removed]",
      "text/plain": [
       "<Figure size 640x480 with 1 Axes>"
      ]
     },
     "metadata": {},
     "output_type": "display_data"
    }
   ],
   "source": [
    "# Importing necessary libraries\n",
    "import matplotlib.image as img\n",
    "import pandas as pd\n",
    "from scipy.cluster.vq import whiten, kmeans\n",
    "import matplotlib.pyplot as plt\n",
    "import seaborn as sns\n",
    "from time import perf_counter\n",
    "\n",
    "# Read the image and print dimensions\n",
    "image = img.imread('me.jpg')  # Make sure 'me.jpg' is in the same directory\n",
    "print('dimensions:', image.shape)\n",
    "\n",
    "# Store RGB values of all pixels in lists r, g, and b\n",
    "r = []\n",
    "g = []\n",
    "b = []\n",
    "\n",
    "start = perf_counter()\n",
    "# Iterate over each pixel in the image\n",
    "for row in image:\n",
    "    for temp_r, temp_g, temp_b in row:  # Assuming image has 3 channels (RGB)\n",
    "        r.append(temp_r)\n",
    "        g.append(temp_g)\n",
    "        b.append(temp_b)\n",
    "\n",
    "end = perf_counter()\n",
    "print(f\"Time taken to extract RGB values: {end - start} seconds\")\n",
    "# Print the size of these lists\n",
    "print(\"red size:\", len(r))\n",
    "print(\"green size:\", len(g))\n",
    "print(\"blue size:\", len(b))\n",
    "# # Save as DataFrame\n",
    "colour_df = pd.DataFrame({'red': r, 'green': g, 'blue': b})\n",
    "# Scaling the values\n",
    "\n",
    "start = perf_counter()\n",
    "\n",
    "colour_df['scaled_color_red'] = whiten(colour_df['red'])\n",
    "colour_df['scaled_color_green'] = whiten(colour_df['green'])\n",
    "colour_df['scaled_color_blue'] = whiten(colour_df['blue'])\n",
    "print(colour_df)\n",
    "\n",
    "end = perf_counter()\n",
    "\n",
    "print(f\"Time taken to scale RGB values: {end - start} seconds\")\n",
    "\n",
    "# # Preparing data to construct elbow plot.\n",
    "distortions = []\n",
    "num_clusters = range(1, 5)  # range of cluster sizes\n",
    "\n",
    "# Create a list of distortions from the kmeans function\n",
    "\n",
    "\n",
    "for i in num_clusters:\n",
    "    start = perf_counter()\n",
    "\n",
    "    cluster_centers, distortion = kmeans(colour_df[['scaled_color_red',\n",
    "                                                    'scaled_color_blue',\n",
    "                                                    'scaled_color_green']], i)\n",
    "    \n",
    "    end = perf_counter()\n",
    "    print(f\"Time taken to cluster for {i} clusters: {end - start} seconds\")\n",
    "    distortions.append(distortion)\n",
    " \n",
    "start = perf_counter()\n",
    "# Create a data frame with two lists, num_clusters and distortions\n",
    "elbow_plot = pd.DataFrame({'num_clusters': num_clusters,\n",
    "                           'distortions': distortions})\n",
    " \n",
    "# Create a line plot of num_clusters and distortions\n",
    "sns.lineplot(x='num_clusters', y='distortions', data=elbow_plot)\n",
    "plt.xticks(num_clusters)\n",
    "\n",
    "end = perf_counter()\n",
    "\n",
    "print(f\"Time taken to plot elbow plot: {end - start} seconds\")\n",
    "plt.show()"
   ]
  },
  {
   "cell_type": "code",
   "execution_count": null,
   "metadata": {},
   "outputs": [],
   "source": [
    "Elbow Plot points to 2 clusters which indicates there are two dominant colours in the image."
   ]
  },
  {
   "cell_type": "code",
   "execution_count": 4,
   "metadata": {},
   "outputs": [
    {
     "data": {
      "image/png": "[encoded data removed]",
      "text/plain": [
       "<Figure size 640x480 with 1 Axes>"
      ]
     },
     "metadata": {},
     "output_type": "display_data"
    }
   ],
   "source": [
    "cluster_centers, _ = kmeans(colour_df[['scaled_color_red',\n",
    "\t\t\t\t\t\t\t\t\t'scaled_color_blue',\n",
    "\t\t\t\t\t\t\t\t\t'scaled_color_green']], 3)\n",
    "\n",
    "dominant_colors = []\n",
    "\n",
    "# Get standard deviations of each color\n",
    "red_std, green_std, blue_std = colour_df[['red',\n",
    "\t\t\t\t\t\t\t\t\t\t'green',\n",
    "\t\t\t\t\t\t\t\t\t\t'blue']].std()\n",
    "\n",
    "for cluster_center in cluster_centers:\n",
    "\tred_scaled, green_scaled, blue_scaled = cluster_center\n",
    "\n",
    "\t# Convert each standardized value to scaled value\n",
    "\tdominant_colors.append((\n",
    "\t\tred_scaled * red_std / 255,\n",
    "\t\tgreen_scaled * green_std / 255,\n",
    "\t\tblue_scaled * blue_std / 255\n",
    "\t))\n",
    "\n",
    "# Display colors of cluster centers\n",
    "plt.imshow([dominant_colors])\n",
    "plt.show()\n"
   ]
  },
  {
   "cell_type": "code",
   "execution_count": null,
   "metadata": {},
   "outputs": [],
   "source": []
  }
 ],
 "metadata": {
  "kernelspec": {
   "display_name": "Python 3 (ipykernel)",
   "language": "python",
   "name": "python3"
  },
  "language_info": {
   "codemirror_mode": {
    "name": "ipython",
    "version": 3
   },
   "file_extension": ".py",
   "mimetype": "text/x-python",
   "name": "python",
   "nbconvert_exporter": "python",
   "pygments_lexer": "ipython3",
   "version": "3.9.13"
  }
 },
 "nbformat": 4,
 "nbformat_minor": 4
}
